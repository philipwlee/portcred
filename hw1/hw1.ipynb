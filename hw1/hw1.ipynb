{
 "cells": [
  {
   "cell_type": "code",
   "execution_count": 1,
   "id": "e8f90344-1e22-426e-ab83-4243488425ea",
   "metadata": {
    "execution": {
     "iopub.execute_input": "2022-04-06T02:47:45.090334Z",
     "iopub.status.busy": "2022-04-06T02:47:45.089814Z",
     "iopub.status.idle": "2022-04-06T02:47:46.905431Z",
     "shell.execute_reply": "2022-04-06T02:47:46.904357Z",
     "shell.execute_reply.started": "2022-04-06T02:47:45.090192Z"
    },
    "tags": []
   },
   "outputs": [
    {
     "name": "stderr",
     "output_type": "stream",
     "text": [
      "/var/folders/rl/jll8zb7n49d7ns3jcsyf8g4h0000gn/T/ipykernel_87857/1895691198.py:5: DeprecationWarning: Please use `mvnun` from the `scipy.stats` namespace, the `scipy.stats.mvn` namespace is deprecated.\n",
      "  from scipy.stats.mvn import mvnun\n"
     ]
    }
   ],
   "source": [
    "import numpy as np\n",
    "import pandas as pd\n",
    "pd.options.display.float_format = \"{:.2g}\".format\n",
    "from scipy.stats import norm, multivariate_normal\n",
    "from scipy.stats.mvn import mvnun\n",
    "from scipy.optimize import bisect"
   ]
  },
  {
   "cell_type": "code",
   "execution_count": 2,
   "id": "30d5e7be-51a1-4854-8d68-2c2893fccf4f",
   "metadata": {
    "execution": {
     "iopub.execute_input": "2022-04-06T02:47:46.910030Z",
     "iopub.status.busy": "2022-04-06T02:47:46.909607Z",
     "iopub.status.idle": "2022-04-06T02:47:47.000452Z",
     "shell.execute_reply": "2022-04-06T02:47:46.998277Z",
     "shell.execute_reply.started": "2022-04-06T02:47:46.909995Z"
    },
    "tags": []
   },
   "outputs": [
    {
     "name": "stdout",
     "output_type": "stream",
     "text": [
      "PD Matrix\n"
     ]
    },
    {
     "data": {
      "text/html": [
       "<div>\n",
       "<style scoped>\n",
       "    .dataframe tbody tr th:only-of-type {\n",
       "        vertical-align: middle;\n",
       "    }\n",
       "\n",
       "    .dataframe tbody tr th {\n",
       "        vertical-align: top;\n",
       "    }\n",
       "\n",
       "    .dataframe thead th {\n",
       "        text-align: right;\n",
       "    }\n",
       "</style>\n",
       "<table border=\"1\" class=\"dataframe\">\n",
       "  <thead>\n",
       "    <tr style=\"text-align: right;\">\n",
       "      <th></th>\n",
       "      <th>1</th>\n",
       "      <th>2</th>\n",
       "      <th>3</th>\n",
       "    </tr>\n",
       "  </thead>\n",
       "  <tbody>\n",
       "    <tr>\n",
       "      <th>1</th>\n",
       "      <td>0.1</td>\n",
       "      <td>0.06</td>\n",
       "      <td>0.06</td>\n",
       "    </tr>\n",
       "    <tr>\n",
       "      <th>2</th>\n",
       "      <td>0.06</td>\n",
       "      <td>0.2</td>\n",
       "      <td>0.06</td>\n",
       "    </tr>\n",
       "    <tr>\n",
       "      <th>3</th>\n",
       "      <td>0.06</td>\n",
       "      <td>0.06</td>\n",
       "      <td>0.3</td>\n",
       "    </tr>\n",
       "  </tbody>\n",
       "</table>\n",
       "</div>"
      ],
      "text/plain": [
       "     1    2    3\n",
       "1  0.1 0.06 0.06\n",
       "2 0.06  0.2 0.06\n",
       "3 0.06 0.06  0.3"
      ]
     },
     "metadata": {},
     "output_type": "display_data"
    }
   ],
   "source": [
    "def disp_arr(arr, index_1=True):\n",
    "    s = arr.shape\n",
    "    display(pd.DataFrame(arr, index=range(s[0]), columns=range(s[1]))\n",
    "            .iloc[int(index_1):, int(index_1):])\n",
    "\n",
    "PD = np.zeros((4,4))\n",
    "for i in range(1,4):\n",
    "    for j in range(1,4):\n",
    "        if i==j: PD[i,j] = 0.1*i\n",
    "        else: PD[i,j] = 0.06\n",
    "\n",
    "print(\"PD Matrix\")\n",
    "disp_arr(PD)"
   ]
  },
  {
   "cell_type": "markdown",
   "id": "3508194f-4cc7-484f-ad2c-0ab50393da8f",
   "metadata": {},
   "source": [
    "# Question 1\n",
    "\n",
    "Find the three values of correlation...\n",
    "\n",
    "$$\\begin{aligned}\n",
    "    z_n &= \\Phi^{-1}(PD_n) \\\\\n",
    "    PDJ_{i,j} &= \\int_{-\\infty}^{z_{i}}\\int_{-\\infty}^{z_{j}} \\phi(Z_i, Z_j, \\rho_{i,j}) dZ_i dZ_j \\\\\n",
    "    \\hat{\\rho}_{i,j} &= \\underset{\\rho_{i,j}}{\\arg\\min} \\bigg|\\bigg| \\int_{-\\infty}^{z_{i}}\\int_{-\\infty}^{z_{j}} \\phi(Z_i, Z_j, \\rho_{i,j}) dZ_i dZ_j - PDJ_{i,j} \\bigg|\\bigg|_2\n",
    "\\end{aligned}$$"
   ]
  },
  {
   "cell_type": "code",
   "execution_count": 3,
   "id": "e29f2428-0ea9-4af9-8843-7c842d40ff01",
   "metadata": {
    "execution": {
     "iopub.execute_input": "2022-04-06T02:47:47.002591Z",
     "iopub.status.busy": "2022-04-06T02:47:47.001795Z",
     "iopub.status.idle": "2022-04-06T02:47:47.077487Z",
     "shell.execute_reply": "2022-04-06T02:47:47.076431Z",
     "shell.execute_reply.started": "2022-04-06T02:47:47.002555Z"
    },
    "tags": []
   },
   "outputs": [
    {
     "name": "stdout",
     "output_type": "stream",
     "text": [
      "Correlation Matrix\n"
     ]
    },
    {
     "data": {
      "text/html": [
       "<div>\n",
       "<style scoped>\n",
       "    .dataframe tbody tr th:only-of-type {\n",
       "        vertical-align: middle;\n",
       "    }\n",
       "\n",
       "    .dataframe tbody tr th {\n",
       "        vertical-align: top;\n",
       "    }\n",
       "\n",
       "    .dataframe thead th {\n",
       "        text-align: right;\n",
       "    }\n",
       "</style>\n",
       "<table border=\"1\" class=\"dataframe\">\n",
       "  <thead>\n",
       "    <tr style=\"text-align: right;\">\n",
       "      <th></th>\n",
       "      <th>1</th>\n",
       "      <th>2</th>\n",
       "      <th>3</th>\n",
       "    </tr>\n",
       "  </thead>\n",
       "  <tbody>\n",
       "    <tr>\n",
       "      <th>1</th>\n",
       "      <td>1</td>\n",
       "      <td>0.6</td>\n",
       "      <td>0.43</td>\n",
       "    </tr>\n",
       "    <tr>\n",
       "      <th>2</th>\n",
       "      <td>0.6</td>\n",
       "      <td>1</td>\n",
       "      <td>0</td>\n",
       "    </tr>\n",
       "    <tr>\n",
       "      <th>3</th>\n",
       "      <td>0.43</td>\n",
       "      <td>0</td>\n",
       "      <td>1</td>\n",
       "    </tr>\n",
       "  </tbody>\n",
       "</table>\n",
       "</div>"
      ],
      "text/plain": [
       "     1   2    3\n",
       "1    1 0.6 0.43\n",
       "2  0.6   1    0\n",
       "3 0.43   0    1"
      ]
     },
     "metadata": {},
     "output_type": "display_data"
    }
   ],
   "source": [
    "def joint_from_copula(z_i, z_j, rho_ij):\n",
    "    \"\"\"Uses Z-scores and Corr to determine the joint probability of default in a 2-Copula\"\"\"\n",
    "    copula = multivariate_normal(mean=np.array([0,0]), cov=np.array([[1, rho_ij],[rho_ij,1]]))\n",
    "    return copula.cdf(np.array([z_i, z_j]))\n",
    "\n",
    "def corr_from_joint(pd_i, pd_j, joint):\n",
    "    \"\"\"Computes pairwise Corr from pairwise PDs\"\"\"\n",
    "    z_i = norm.ppf(pd_i)\n",
    "    z_j = norm.ppf(pd_j)\n",
    "    \n",
    "    if np.allclose(pd_i*pd_j, joint): return 0\n",
    "    elif pd_i*pd_j > joint: lo, hi = -0.999, 0\n",
    "    else: lo, hi = 0, 0.999\n",
    "    \n",
    "    return bisect(lambda x: (joint_from_copula(z_i, z_j, x)-joint), lo, hi)\n",
    "\n",
    "Corr = np.ones(PD.shape)\n",
    "\n",
    "for i in range(1,4):\n",
    "    for j in range(1,4):\n",
    "        if i==j: continue\n",
    "        else: Corr[i,j] = corr_from_joint(PD[i,i], PD[j,j], PD[i,j])\n",
    "\n",
    "print(\"Correlation Matrix\")\n",
    "disp_arr(np.round(Corr,4))"
   ]
  },
  {
   "cell_type": "markdown",
   "id": "9bf38aa6-1227-417a-87a7-c60c5b702fa1",
   "metadata": {},
   "source": [
    "...find the three values of default correlation...\n",
    "\n",
    "$$\\begin{aligned}\n",
    "    Dcorr[D_1, D_2] &= \\frac{Cov[D_1, D_2]}{\\sqrt{Var[D_1] Var[D_2]}} \\\\\n",
    "        &= \\frac{PDJ- PD_1 PD_2}{\\sqrt{PD_1(1-PD_1)PD_2(1-PD_2)}}\n",
    "\\end{aligned}$$"
   ]
  },
  {
   "cell_type": "code",
   "execution_count": 4,
   "id": "e29fe091-bfd0-46fb-9250-0fd6c6fc36e8",
   "metadata": {
    "execution": {
     "iopub.execute_input": "2022-04-06T02:47:47.079345Z",
     "iopub.status.busy": "2022-04-06T02:47:47.078744Z",
     "iopub.status.idle": "2022-04-06T02:47:47.090903Z",
     "shell.execute_reply": "2022-04-06T02:47:47.090132Z",
     "shell.execute_reply.started": "2022-04-06T02:47:47.079239Z"
    },
    "tags": []
   },
   "outputs": [
    {
     "name": "stdout",
     "output_type": "stream",
     "text": [
      "Default Correlation\n"
     ]
    },
    {
     "data": {
      "text/html": [
       "<div>\n",
       "<style scoped>\n",
       "    .dataframe tbody tr th:only-of-type {\n",
       "        vertical-align: middle;\n",
       "    }\n",
       "\n",
       "    .dataframe tbody tr th {\n",
       "        vertical-align: top;\n",
       "    }\n",
       "\n",
       "    .dataframe thead th {\n",
       "        text-align: right;\n",
       "    }\n",
       "</style>\n",
       "<table border=\"1\" class=\"dataframe\">\n",
       "  <thead>\n",
       "    <tr style=\"text-align: right;\">\n",
       "      <th></th>\n",
       "      <th>1</th>\n",
       "      <th>2</th>\n",
       "      <th>3</th>\n",
       "    </tr>\n",
       "  </thead>\n",
       "  <tbody>\n",
       "    <tr>\n",
       "      <th>1</th>\n",
       "      <td>1</td>\n",
       "      <td>0.33</td>\n",
       "      <td>0.22</td>\n",
       "    </tr>\n",
       "    <tr>\n",
       "      <th>2</th>\n",
       "      <td>0.33</td>\n",
       "      <td>1</td>\n",
       "      <td>-7.6e-17</td>\n",
       "    </tr>\n",
       "    <tr>\n",
       "      <th>3</th>\n",
       "      <td>0.22</td>\n",
       "      <td>-7.6e-17</td>\n",
       "      <td>1</td>\n",
       "    </tr>\n",
       "  </tbody>\n",
       "</table>\n",
       "</div>"
      ],
      "text/plain": [
       "     1        2        3\n",
       "1    1     0.33     0.22\n",
       "2 0.33        1 -7.6e-17\n",
       "3 0.22 -7.6e-17        1"
      ]
     },
     "metadata": {},
     "output_type": "display_data"
    }
   ],
   "source": [
    "def dcorr(pd_i, pd_j, joint):\n",
    "    return (joint - pd_i*pd_j) / (pd_i*(1-pd_i)*pd_j*(1-pd_j))**0.5\n",
    "\n",
    "DCorr = np.ones((4,4))\n",
    "\n",
    "for i in range(1,4):\n",
    "    for j in range(1,4):\n",
    "        if i==j: continue\n",
    "        else: DCorr[i,j] = dcorr(PD[i,i], PD[j,j], PD[i,j])\n",
    "\n",
    "print(\"Default Correlation\")\n",
    "disp_arr(DCorr)"
   ]
  },
  {
   "cell_type": "markdown",
   "id": "9cc4c30b-f190-471a-84d5-b4e748643185",
   "metadata": {},
   "source": [
    "# Question 2\n",
    "\n",
    "Suppose that three firms each have PD = 0.10... \n",
    "\n",
    "State the three values of PDJ. State the range of possible values for the probability that all three of the firms default. State the probability that all three default under the Gauss copula."
   ]
  },
  {
   "cell_type": "code",
   "execution_count": 5,
   "id": "972a4611-6b13-48da-9edd-2595b3a13e66",
   "metadata": {
    "execution": {
     "iopub.execute_input": "2022-04-06T02:47:47.092455Z",
     "iopub.status.busy": "2022-04-06T02:47:47.092112Z",
     "iopub.status.idle": "2022-04-06T02:47:47.107127Z",
     "shell.execute_reply": "2022-04-06T02:47:47.106322Z",
     "shell.execute_reply.started": "2022-04-06T02:47:47.092426Z"
    },
    "tags": []
   },
   "outputs": [
    {
     "name": "stdout",
     "output_type": "stream",
     "text": [
      "PD Matrix\n"
     ]
    },
    {
     "data": {
      "text/html": [
       "<div>\n",
       "<style scoped>\n",
       "    .dataframe tbody tr th:only-of-type {\n",
       "        vertical-align: middle;\n",
       "    }\n",
       "\n",
       "    .dataframe tbody tr th {\n",
       "        vertical-align: top;\n",
       "    }\n",
       "\n",
       "    .dataframe thead th {\n",
       "        text-align: right;\n",
       "    }\n",
       "</style>\n",
       "<table border=\"1\" class=\"dataframe\">\n",
       "  <thead>\n",
       "    <tr style=\"text-align: right;\">\n",
       "      <th></th>\n",
       "      <th>1</th>\n",
       "      <th>2</th>\n",
       "      <th>3</th>\n",
       "    </tr>\n",
       "  </thead>\n",
       "  <tbody>\n",
       "    <tr>\n",
       "      <th>1</th>\n",
       "      <td>0.1</td>\n",
       "      <td>0.027</td>\n",
       "      <td>0.032</td>\n",
       "    </tr>\n",
       "    <tr>\n",
       "      <th>2</th>\n",
       "      <td>0.027</td>\n",
       "      <td>0.1</td>\n",
       "      <td>0.039</td>\n",
       "    </tr>\n",
       "    <tr>\n",
       "      <th>3</th>\n",
       "      <td>0.032</td>\n",
       "      <td>0.039</td>\n",
       "      <td>0.1</td>\n",
       "    </tr>\n",
       "  </tbody>\n",
       "</table>\n",
       "</div>"
      ],
      "text/plain": [
       "      1     2     3\n",
       "1   0.1 0.027 0.032\n",
       "2 0.027   0.1 0.039\n",
       "3 0.032 0.039   0.1"
      ]
     },
     "metadata": {},
     "output_type": "display_data"
    }
   ],
   "source": [
    "zs = norm.ppf([0.1]*4)\n",
    "Corr = np.array([[1,1  ,1  ,1  ],\n",
    "                [1,1  ,0.4,0.5],\n",
    "                [1,0.4,1  ,0.6],\n",
    "                [1,0.5,0.6,1  ]])\n",
    "\n",
    "PD = np.ones(Corr.shape)*0.1\n",
    "\n",
    "for i in range(1,4):\n",
    "    for j in range(1,4):\n",
    "        if i==j: continue\n",
    "        else: PD[i,j] = joint_from_copula(zs[i], zs[j], Corr[i,j])\n",
    "\n",
    "print(\"PD Matrix\")\n",
    "disp_arr(np.round(PD,4))"
   ]
  },
  {
   "cell_type": "markdown",
   "id": "8fce4454-3168-40aa-bcbc-24d3edee474f",
   "metadata": {
    "tags": []
   },
   "source": [
    "...bounds on probability that all three of the firms default.\n",
    "\n",
    "$$PDJ_{1,2,3} \\in [0, 0.029]$$"
   ]
  },
  {
   "cell_type": "code",
   "execution_count": 6,
   "id": "677057b6-0d62-44ef-98af-ac7bf2ece5e7",
   "metadata": {
    "execution": {
     "iopub.execute_input": "2022-04-06T02:47:47.108753Z",
     "iopub.status.busy": "2022-04-06T02:47:47.108372Z",
     "iopub.status.idle": "2022-04-06T02:47:47.120059Z",
     "shell.execute_reply": "2022-04-06T02:47:47.119097Z",
     "shell.execute_reply.started": "2022-04-06T02:47:47.108721Z"
    },
    "tags": []
   },
   "outputs": [
    {
     "name": "stdout",
     "output_type": "stream",
     "text": [
      "Probability that all 3 default: 0.016\n"
     ]
    }
   ],
   "source": [
    "def all_from_copula(zs, cov):\n",
    "    \"\"\"Uses Z-scores and Corr to determine the joint probability of default in an n-Copula\"\"\"\n",
    "    n = zs.shape[0]\n",
    "    copula = multivariate_normal(mean=np.array([0]*n), cov=cov)\n",
    "    return copula.cdf(zs)\n",
    "\n",
    "zs = zs[1:]\n",
    "\n",
    "pd_123 = all_from_copula(zs, Corr[1:, 1:])\n",
    "print(f\"Probability that all 3 default: {pd_123:.2g}\")"
   ]
  },
  {
   "cell_type": "markdown",
   "id": "78591d90-ef45-485c-a685-3d06c6886a1e",
   "metadata": {},
   "source": [
    "# Question 3\n",
    "\n",
    "Suppose a firm rated A has correlation 0.4 with a firm rated B. In the following period, a Firm A remains rated A with prob = 0.5, and so forth...\n",
    "\n",
    "In your answer file, create a three-by-three grid such as here..."
   ]
  },
  {
   "cell_type": "code",
   "execution_count": 7,
   "id": "a26bf3b1-e2bf-4da1-a6a5-10236e0b3bc3",
   "metadata": {
    "execution": {
     "iopub.execute_input": "2022-04-06T02:47:47.125759Z",
     "iopub.status.busy": "2022-04-06T02:47:47.125395Z",
     "iopub.status.idle": "2022-04-06T02:47:47.133362Z",
     "shell.execute_reply": "2022-04-06T02:47:47.132577Z",
     "shell.execute_reply.started": "2022-04-06T02:47:47.125728Z"
    },
    "tags": []
   },
   "outputs": [],
   "source": [
    "TP = np.array([[0.5,0.4,0.1],\n",
    "               [0.3,0.5,0.2]])\n",
    "\n",
    "TP_c = np.array([[1.0,0.5,0.1,0],\n",
    "                 [1.0,0.7,0.2,0]])\n",
    "\n",
    "zTP = norm.ppf(TP_c)\n",
    "\n",
    "rho_AB = 0.4\n",
    "Cor = np.array([[1,rho_AB],[rho_AB,1]])\n",
    "\n",
    "zTPA = zTP[0][::-1]\n",
    "zTPB = zTP[1][::-1]\n",
    "\n",
    "zA = {state: (zTPA[i],zTPA[i+1]) for state, i in zip([\"D\",\"B\",\"A\"],[0,1,2])}\n",
    "zB = {state: (zTPB[i],zTPB[i+1]) for state, i in zip([\"D\",\"B\",\"A\"],[0,1,2])}"
   ]
  },
  {
   "cell_type": "code",
   "execution_count": 8,
   "id": "b420670d-de5c-4ee3-851e-c8b9b5f1dedd",
   "metadata": {
    "execution": {
     "iopub.execute_input": "2022-04-06T02:47:47.135754Z",
     "iopub.status.busy": "2022-04-06T02:47:47.135361Z",
     "iopub.status.idle": "2022-04-06T02:47:47.157562Z",
     "shell.execute_reply": "2022-04-06T02:47:47.156522Z",
     "shell.execute_reply.started": "2022-04-06T02:47:47.135724Z"
    },
    "tags": []
   },
   "outputs": [
    {
     "name": "stdout",
     "output_type": "stream",
     "text": [
      "The transition probabilities sum to 1.\n"
     ]
    },
    {
     "data": {
      "text/html": [
       "<div>\n",
       "<style scoped>\n",
       "    .dataframe tbody tr th:only-of-type {\n",
       "        vertical-align: middle;\n",
       "    }\n",
       "\n",
       "    .dataframe tbody tr th {\n",
       "        vertical-align: top;\n",
       "    }\n",
       "\n",
       "    .dataframe thead th {\n",
       "        text-align: right;\n",
       "    }\n",
       "</style>\n",
       "<table border=\"1\" class=\"dataframe\">\n",
       "  <thead>\n",
       "    <tr style=\"text-align: right;\">\n",
       "      <th></th>\n",
       "      <th>D</th>\n",
       "      <th>B</th>\n",
       "      <th>A</th>\n",
       "    </tr>\n",
       "  </thead>\n",
       "  <tbody>\n",
       "    <tr>\n",
       "      <th>A</th>\n",
       "      <td>0.0094</td>\n",
       "      <td>0.084</td>\n",
       "      <td>0.21</td>\n",
       "    </tr>\n",
       "    <tr>\n",
       "      <th>B</th>\n",
       "      <td>0.047</td>\n",
       "      <td>0.21</td>\n",
       "      <td>0.24</td>\n",
       "    </tr>\n",
       "    <tr>\n",
       "      <th>D</th>\n",
       "      <td>0.044</td>\n",
       "      <td>0.1</td>\n",
       "      <td>0.055</td>\n",
       "    </tr>\n",
       "  </tbody>\n",
       "</table>\n",
       "</div>"
      ],
      "text/plain": [
       "       D     B     A\n",
       "A 0.0094 0.084  0.21\n",
       "B  0.047  0.21  0.24\n",
       "D  0.044   0.1 0.055"
      ]
     },
     "execution_count": 8,
     "metadata": {},
     "output_type": "execute_result"
    }
   ],
   "source": [
    "Trans = pd.DataFrame(index=['A','B','D'], columns=['D','B','A'])\n",
    "\n",
    "DEBUG = False\n",
    "for i, r in enumerate(Trans.index):\n",
    "    for j, c in enumerate(Trans.columns):\n",
    "        # integration bounds\n",
    "        bounds = np.array([zA[c], zB[r]])\n",
    "        if DEBUG: print(f\"B={r},A={c}\\n\",bounds)\n",
    "        \n",
    "        Trans.loc[r,c] = mvnun(bounds[:,0], bounds[:,1], np.zeros(2), Cor)[0]\n",
    "\n",
    "assert np.allclose(np.sum(Trans.sum()),1.0) # Transition Probabilities sum to 1\n",
    "print(\"The transition probabilities sum to 1.\")\n",
    "Trans"
   ]
  },
  {
   "cell_type": "markdown",
   "id": "96f937a5-679b-41a4-9a00-10d3d14cf2d5",
   "metadata": {},
   "source": [
    "# Question 4\n",
    "\n",
    "Suppose that four firms have PDs equal to 1%, 2%, 3%, and 4% and the probability that any given pair defaults equals 0.1%. What is the matrix of correlations? Explain why the defaults of the four firms can or cannot be connected by a Gauss copula."
   ]
  },
  {
   "cell_type": "code",
   "execution_count": 9,
   "id": "467283fc-e568-4897-854f-65f3d3794459",
   "metadata": {
    "execution": {
     "iopub.execute_input": "2022-04-06T02:47:47.159509Z",
     "iopub.status.busy": "2022-04-06T02:47:47.159055Z",
     "iopub.status.idle": "2022-04-06T02:47:47.171622Z",
     "shell.execute_reply": "2022-04-06T02:47:47.170775Z",
     "shell.execute_reply.started": "2022-04-06T02:47:47.159477Z"
    },
    "tags": []
   },
   "outputs": [
    {
     "name": "stdout",
     "output_type": "stream",
     "text": [
      "PD Matrix\n"
     ]
    },
    {
     "data": {
      "text/html": [
       "<div>\n",
       "<style scoped>\n",
       "    .dataframe tbody tr th:only-of-type {\n",
       "        vertical-align: middle;\n",
       "    }\n",
       "\n",
       "    .dataframe tbody tr th {\n",
       "        vertical-align: top;\n",
       "    }\n",
       "\n",
       "    .dataframe thead th {\n",
       "        text-align: right;\n",
       "    }\n",
       "</style>\n",
       "<table border=\"1\" class=\"dataframe\">\n",
       "  <thead>\n",
       "    <tr style=\"text-align: right;\">\n",
       "      <th></th>\n",
       "      <th>1</th>\n",
       "      <th>2</th>\n",
       "      <th>3</th>\n",
       "      <th>4</th>\n",
       "    </tr>\n",
       "  </thead>\n",
       "  <tbody>\n",
       "    <tr>\n",
       "      <th>1</th>\n",
       "      <td>0.01</td>\n",
       "      <td>0.001</td>\n",
       "      <td>0.001</td>\n",
       "      <td>0.001</td>\n",
       "    </tr>\n",
       "    <tr>\n",
       "      <th>2</th>\n",
       "      <td>0.001</td>\n",
       "      <td>0.02</td>\n",
       "      <td>0.001</td>\n",
       "      <td>0.001</td>\n",
       "    </tr>\n",
       "    <tr>\n",
       "      <th>3</th>\n",
       "      <td>0.001</td>\n",
       "      <td>0.001</td>\n",
       "      <td>0.03</td>\n",
       "      <td>0.001</td>\n",
       "    </tr>\n",
       "    <tr>\n",
       "      <th>4</th>\n",
       "      <td>0.001</td>\n",
       "      <td>0.001</td>\n",
       "      <td>0.001</td>\n",
       "      <td>0.04</td>\n",
       "    </tr>\n",
       "  </tbody>\n",
       "</table>\n",
       "</div>"
      ],
      "text/plain": [
       "      1     2     3     4\n",
       "1  0.01 0.001 0.001 0.001\n",
       "2 0.001  0.02 0.001 0.001\n",
       "3 0.001 0.001  0.03 0.001\n",
       "4 0.001 0.001 0.001  0.04"
      ]
     },
     "metadata": {},
     "output_type": "display_data"
    }
   ],
   "source": [
    "PD = np.ones((5,5))\n",
    "\n",
    "for i in range(1,5):\n",
    "    for j in range(1,5):\n",
    "        if i==j: PD[i,j] = i*0.01\n",
    "        else: PD[i,j] = 0.001\n",
    "\n",
    "print(\"PD Matrix\")\n",
    "disp_arr(PD)"
   ]
  },
  {
   "cell_type": "code",
   "execution_count": 10,
   "id": "e9aaf8a3-937d-4c01-8455-3ee099429861",
   "metadata": {
    "execution": {
     "iopub.execute_input": "2022-04-06T02:47:47.173452Z",
     "iopub.status.busy": "2022-04-06T02:47:47.173012Z",
     "iopub.status.idle": "2022-04-06T02:47:47.347136Z",
     "shell.execute_reply": "2022-04-06T02:47:47.346404Z",
     "shell.execute_reply.started": "2022-04-06T02:47:47.173418Z"
    },
    "tags": []
   },
   "outputs": [
    {
     "name": "stdout",
     "output_type": "stream",
     "text": [
      "Correlation Matrix\n"
     ]
    },
    {
     "data": {
      "text/html": [
       "<div>\n",
       "<style scoped>\n",
       "    .dataframe tbody tr th:only-of-type {\n",
       "        vertical-align: middle;\n",
       "    }\n",
       "\n",
       "    .dataframe tbody tr th {\n",
       "        vertical-align: top;\n",
       "    }\n",
       "\n",
       "    .dataframe thead th {\n",
       "        text-align: right;\n",
       "    }\n",
       "</style>\n",
       "<table border=\"1\" class=\"dataframe\">\n",
       "  <thead>\n",
       "    <tr style=\"text-align: right;\">\n",
       "      <th></th>\n",
       "      <th>1</th>\n",
       "      <th>2</th>\n",
       "      <th>3</th>\n",
       "      <th>4</th>\n",
       "    </tr>\n",
       "  </thead>\n",
       "  <tbody>\n",
       "    <tr>\n",
       "      <th>1</th>\n",
       "      <td>1</td>\n",
       "      <td>0.31</td>\n",
       "      <td>0.24</td>\n",
       "      <td>0.18</td>\n",
       "    </tr>\n",
       "    <tr>\n",
       "      <th>2</th>\n",
       "      <td>0.31</td>\n",
       "      <td>1</td>\n",
       "      <td>0.1</td>\n",
       "      <td>0.044</td>\n",
       "    </tr>\n",
       "    <tr>\n",
       "      <th>3</th>\n",
       "      <td>0.24</td>\n",
       "      <td>0.1</td>\n",
       "      <td>1</td>\n",
       "      <td>-0.036</td>\n",
       "    </tr>\n",
       "    <tr>\n",
       "      <th>4</th>\n",
       "      <td>0.18</td>\n",
       "      <td>0.044</td>\n",
       "      <td>-0.036</td>\n",
       "      <td>1</td>\n",
       "    </tr>\n",
       "  </tbody>\n",
       "</table>\n",
       "</div>"
      ],
      "text/plain": [
       "     1     2      3      4\n",
       "1    1  0.31   0.24   0.18\n",
       "2 0.31     1    0.1  0.044\n",
       "3 0.24   0.1      1 -0.036\n",
       "4 0.18 0.044 -0.036      1"
      ]
     },
     "metadata": {},
     "output_type": "display_data"
    },
    {
     "name": "stdout",
     "output_type": "stream",
     "text": [
      "All the Correlation Matrix's Eigenvalues are >= 0. Therefore, the matrix is Positive Semidefinite.\n",
      "The Correlation Matrix's determinant is non-negative.\n"
     ]
    }
   ],
   "source": [
    "Corr = np.ones(PD.shape)\n",
    "\n",
    "for i in range(1,5):\n",
    "    for j in range(1,5):\n",
    "        if i==j: continue\n",
    "        else: Corr[i,j] = corr_from_joint(PD[i,i], PD[j,j], PD[i,j])\n",
    "\n",
    "print(\"Correlation Matrix\")\n",
    "disp_arr(np.round(Corr,4))\n",
    "\n",
    "eig_vals, eig_vecs = np.linalg.eig(Corr[1:,1:])\n",
    "\n",
    "assert (eig_vals >= np.zeros(eig_vals.shape)).all()\n",
    "print(\"All the Correlation Matrix's Eigenvalues are >= 0. Therefore, the matrix is Positive Semidefinite.\")\n",
    "\n",
    "assert np.linalg.det(Corr[1:,1:]) >= 0\n",
    "print(\"The Correlation Matrix's determinant is non-negative.\")"
   ]
  },
  {
   "cell_type": "markdown",
   "id": "8a1ee444-05e9-49e7-b48d-40bbc101e76d",
   "metadata": {},
   "source": [
    "#### Analysis: Correlation Matrix\n",
    "\n",
    "The correlation matrix using the default probabilities appears valid. It is symmetric and positive semidefinite. Furthermore, the determinant is non-negative. "
   ]
  },
  {
   "cell_type": "code",
   "execution_count": 11,
   "id": "b6dedc38-0712-4b54-a48a-f182b23d9c87",
   "metadata": {
    "execution": {
     "iopub.execute_input": "2022-04-06T02:47:47.349339Z",
     "iopub.status.busy": "2022-04-06T02:47:47.348946Z",
     "iopub.status.idle": "2022-04-06T02:47:47.365855Z",
     "shell.execute_reply": "2022-04-06T02:47:47.365135Z",
     "shell.execute_reply.started": "2022-04-06T02:47:47.349308Z"
    },
    "tags": []
   },
   "outputs": [
    {
     "name": "stdout",
     "output_type": "stream",
     "text": [
      "PD Matrix\n"
     ]
    },
    {
     "data": {
      "text/html": [
       "<div>\n",
       "<style scoped>\n",
       "    .dataframe tbody tr th:only-of-type {\n",
       "        vertical-align: middle;\n",
       "    }\n",
       "\n",
       "    .dataframe tbody tr th {\n",
       "        vertical-align: top;\n",
       "    }\n",
       "\n",
       "    .dataframe thead th {\n",
       "        text-align: right;\n",
       "    }\n",
       "</style>\n",
       "<table border=\"1\" class=\"dataframe\">\n",
       "  <thead>\n",
       "    <tr style=\"text-align: right;\">\n",
       "      <th></th>\n",
       "      <th>1</th>\n",
       "      <th>2</th>\n",
       "      <th>3</th>\n",
       "      <th>4</th>\n",
       "    </tr>\n",
       "  </thead>\n",
       "  <tbody>\n",
       "    <tr>\n",
       "      <th>1</th>\n",
       "      <td>0.01</td>\n",
       "      <td>0.001</td>\n",
       "      <td>0.001</td>\n",
       "      <td>0.001</td>\n",
       "    </tr>\n",
       "    <tr>\n",
       "      <th>2</th>\n",
       "      <td>0.001</td>\n",
       "      <td>0.02</td>\n",
       "      <td>0.001</td>\n",
       "      <td>0.001</td>\n",
       "    </tr>\n",
       "    <tr>\n",
       "      <th>3</th>\n",
       "      <td>0.001</td>\n",
       "      <td>0.001</td>\n",
       "      <td>0.03</td>\n",
       "      <td>0.001</td>\n",
       "    </tr>\n",
       "    <tr>\n",
       "      <th>4</th>\n",
       "      <td>0.001</td>\n",
       "      <td>0.001</td>\n",
       "      <td>0.001</td>\n",
       "      <td>0.04</td>\n",
       "    </tr>\n",
       "  </tbody>\n",
       "</table>\n",
       "</div>"
      ],
      "text/plain": [
       "      1     2     3     4\n",
       "1  0.01 0.001 0.001 0.001\n",
       "2 0.001  0.02 0.001 0.001\n",
       "3 0.001 0.001  0.03 0.001\n",
       "4 0.001 0.001 0.001  0.04"
      ]
     },
     "metadata": {},
     "output_type": "display_data"
    }
   ],
   "source": [
    "zs = norm.ppf(np.diag(PD))\n",
    "PD = np.ones(Corr.shape)\n",
    "for i in range(PD.shape[0]): PD[i,i] = 0.01*i\n",
    "\n",
    "for i in range(1,5):\n",
    "    for j in range(1,5):\n",
    "        if i==j: continue\n",
    "        else: PD[i,j] = joint_from_copula(zs[i], zs[j], Corr[i,j]-0.001)\n",
    "\n",
    "print(\"PD Matrix\")\n",
    "disp_arr(np.round(PD,4))"
   ]
  },
  {
   "cell_type": "markdown",
   "id": "9c37dfcf-fd2a-4766-b4b1-780cd641c151",
   "metadata": {},
   "source": [
    "#### Analysis: Reversion to Default Probabilities\n",
    "\n",
    "The correlation matrix successfully reverts back to the Probability of Default Matrix. Because:\n",
    "\n",
    "$$PD_{i,i} \\in [\\underbrace{0}_{\\rho_{i,j}=-1},\\underbrace{\\min(PD_i, PD_j)}_{\\rho_{i,j}=1}]$$\n",
    "\n",
    "A naive check of the Probability of Default Matrix appears to indicate that it may be valid.\n",
    "\n",
    "#### Analysis: Gaussian Copula\n",
    "\n",
    "The Gaussian Copula can adaquately address most distributions with correlated default probabilities. Changing correlation between each marginal distribution can be visualized as expansion while rotating of the joint distribution ($\\rho \\in [1 \\to 0]$) then contraction while rotating ($\\rho \\in [0 \\to -1]$)."
   ]
  },
  {
   "cell_type": "code",
   "execution_count": null,
   "id": "e0f029bf-0f19-4ced-9df8-2d507ab96a87",
   "metadata": {},
   "outputs": [],
   "source": []
  }
 ],
 "metadata": {
  "kernelspec": {
   "display_name": "Python 3 (ipykernel)",
   "language": "python",
   "name": "python3"
  },
  "language_info": {
   "codemirror_mode": {
    "name": "ipython",
    "version": 3
   },
   "file_extension": ".py",
   "mimetype": "text/x-python",
   "name": "python",
   "nbconvert_exporter": "python",
   "pygments_lexer": "ipython3",
   "version": "3.9.10"
  }
 },
 "nbformat": 4,
 "nbformat_minor": 5
}
